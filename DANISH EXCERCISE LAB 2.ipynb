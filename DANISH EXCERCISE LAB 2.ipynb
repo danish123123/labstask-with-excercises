{
 "cells": [
  {
   "cell_type": "markdown",
   "metadata": {},
   "source": [
    "# SYED MUHAMMAD DANISH LAB 2 19b-001-se"
   ]
  },
  {
   "cell_type": "code",
   "execution_count": 4,
   "metadata": {},
   "outputs": [
    {
     "name": "stdout",
     "output_type": "stream",
     "text": [
      "True\n",
      "True\n",
      "True\n",
      "True\n"
     ]
    }
   ],
   "source": [
    "# Q7\n",
    "import math\n",
    "r=10\n",
    "x=0\n",
    "y=0\n",
    "a=math.sqrt((0-0)*2+(0-0)*2)\n",
    "b=math.sqrt((10-0)*2+(10-0)*2)\n",
    "c=math.sqrt((6-0)*2+(6-0)*2)\n",
    "d=math.sqrt((8-0)*2+(7-0)*2)\n",
    "print (a<r)\n",
    "print (b<r)\n",
    "print (c<r)\n",
    "print (d<r)"
   ]
  },
  {
   "cell_type": "code",
   "execution_count": null,
   "metadata": {},
   "outputs": [],
   "source": []
  }
 ],
 "metadata": {
  "kernelspec": {
   "display_name": "Python 3",
   "language": "python",
   "name": "python3"
  },
  "language_info": {
   "codemirror_mode": {
    "name": "ipython",
    "version": 3
   },
   "file_extension": ".py",
   "mimetype": "text/x-python",
   "name": "python",
   "nbconvert_exporter": "python",
   "pygments_lexer": "ipython3",
   "version": "3.6.5"
  }
 },
 "nbformat": 4,
 "nbformat_minor": 2
}
