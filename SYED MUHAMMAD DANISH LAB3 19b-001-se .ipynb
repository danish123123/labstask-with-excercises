{
 "cells": [
  {
   "cell_type": "markdown",
   "metadata": {},
   "source": [
    "# SYED MUHAMMAD DANISH sec a 19b-001-se"
   ]
  },
  {
   "cell_type": "code",
   "execution_count": 3,
   "metadata": {},
   "outputs": [
    {
     "name": "stdout",
     "output_type": "stream",
     "text": [
      "Sum is :  32\n",
      "Difference is : -12\n",
      "Product is : 220\n",
      "Division is: 0.45454545454545453\n",
      "Integer Division is: 0.45454545454545453\n",
      "Raised to the power is: 10000000000000000000000\n",
      "Remainder is: 10\n"
     ]
    }
   ],
   "source": [
    "#PROGRAM 1\n",
    "\n",
    "# Math operators in Python\n",
    "# Taking two values\n",
    "\n",
    "a=10\n",
    "b=22\n",
    "\n",
    "# Using sum operator\n",
    "print (\"Sum is : \", a+b )\n",
    "\n",
    "# Using subtract operator\n",
    "print (\"Difference is :\", a-b)\n",
    "\n",
    "# Using multiplication operator\n",
    "print (\"Product is :\", a*b)\n",
    "\n",
    "# Using division operator\n",
    "print (\"Division is:\", a/b)\n",
    "\n",
    "# Using integer divison operator\n",
    "print (\"Integer Division is:\", a/b)\n",
    "\n",
    "# Using Power operator\n",
    "print (\"Raised to the power is:\", a**b)\n",
    "\n",
    "#Using modulous operator\n",
    "print (\"Remainder is:\", a%b)\n"
   ]
  },
  {
   "cell_type": "code",
   "execution_count": 4,
   "metadata": {},
   "outputs": [
    {
     "name": "stdout",
     "output_type": "stream",
     "text": [
      "8\n",
      "2\n",
      "15\n",
      "1.6666666666666667\n",
      "2\n",
      "1\n",
      "125\n",
      "1\n",
      "7\n",
      "6\n",
      "0\n",
      "40\n"
     ]
    }
   ],
   "source": [
    "#PROGRAM 2\n",
    "\n",
    "x=5\n",
    "x+=3\n",
    "print (x)\n",
    "\n",
    "x=5\n",
    "x-=3\n",
    "print (x)\n",
    "\n",
    "x=5\n",
    "x*=3\n",
    "print (x)\n",
    "\n",
    "x=5\n",
    "x/=3\n",
    "print (x)\n",
    "\n",
    "x=5\n",
    "x%=3\n",
    "print (x)\n",
    "\n",
    "x=5\n",
    "x//=3\n",
    "print (x)\n",
    "\n",
    "x=5\n",
    "x**=3\n",
    "print (x)\n",
    "\n",
    "x=5\n",
    "x&=3\n",
    "print (x)\n",
    "\n",
    "x=5\n",
    "x|=3\n",
    "print (x)\n",
    "\n",
    "x=5\n",
    "x^=3\n",
    "print (x)\n",
    "\n",
    "x=5\n",
    "x>>=3\n",
    "print (x)\n",
    "\n",
    "x=5\n",
    "x<<=3\n",
    "print (x)\n"
   ]
  },
  {
   "cell_type": "code",
   "execution_count": 5,
   "metadata": {},
   "outputs": [
    {
     "name": "stdout",
     "output_type": "stream",
     "text": [
      "x is equal to y: False\n",
      "x is not equal to y: True\n",
      "x is greater than y: True\n",
      "x is less than y: False\n",
      "x is the greater than or equal to y: True\n",
      "x is less than or equal to y: False\n"
     ]
    }
   ],
   "source": [
    "#Program 3\n",
    "\n",
    "x=20\n",
    "y=15\n",
    "\n",
    "print (\"x is equal to y:\", x==y)\n",
    "print (\"x is not equal to y:\", x!=y)\n",
    "print (\"x is greater than y:\", x>y)\n",
    "print (\"x is less than y:\", x<y)\n",
    "print (\"x is the greater than or equal to y:\", x>=y)\n",
    "print (\"x is less than or equal to y:\", x<=y)\n"
   ]
  },
  {
   "cell_type": "code",
   "execution_count": 6,
   "metadata": {},
   "outputs": [
    {
     "name": "stdout",
     "output_type": "stream",
     "text": [
      "True\n",
      "True\n",
      "False\n"
     ]
    }
   ],
   "source": [
    "#Program 4\n",
    "\n",
    "x=15\n",
    "print (x>13 and x<20)\n",
    "\n",
    "x=25\n",
    "print (x>23 or x<24)\n",
    "\n",
    "x=35\n",
    "print (not(x>33 and x<40))\n"
   ]
  },
  {
   "cell_type": "code",
   "execution_count": null,
   "metadata": {},
   "outputs": [],
   "source": [
    "#Program 5\n",
    "\n",
    "x=[\"ahmed\", \"bashir\"]\n",
    "y=[\"ahmed\", \"bashir\"]\n",
    "z=x\n",
    "\n",
    "print (x is z)\n",
    "print (x is y)\n",
    "print (x==y)\n"
   ]
  },
  {
   "cell_type": "code",
   "execution_count": 7,
   "metadata": {},
   "outputs": [
    {
     "name": "stdout",
     "output_type": "stream",
     "text": [
      "False\n",
      "True\n",
      "False\n"
     ]
    }
   ],
   "source": [
    "#Program 6\n",
    "\n",
    "x=[\"ahmed\", \"bashir\"]\n",
    "y=[\"ahmed\", \"bashir\"]\n",
    "z=x\n",
    "\n",
    "print (x is not z)\n",
    "print (x is not y)\n",
    "print (x<y)\n",
    "\n",
    "\n"
   ]
  },
  {
   "cell_type": "code",
   "execution_count": 8,
   "metadata": {},
   "outputs": [
    {
     "ename": "SyntaxError",
     "evalue": "invalid syntax (<ipython-input-8-09163d2ab462>, line 8)",
     "output_type": "error",
     "traceback": [
      "\u001b[1;36m  File \u001b[1;32m\"<ipython-input-8-09163d2ab462>\"\u001b[1;36m, line \u001b[1;32m8\u001b[0m\n\u001b[1;33m    print (x<>y)\u001b[0m\n\u001b[1;37m             ^\u001b[0m\n\u001b[1;31mSyntaxError\u001b[0m\u001b[1;31m:\u001b[0m invalid syntax\n"
     ]
    }
   ],
   "source": [
    "#ERROR\n",
    "x=[\"ahmed\", \"bashir\"]\n",
    "y=[\"ahmed\", \"bashir\"]\n",
    "z=x\n",
    "\n",
    "print (x is not z)\n",
    "print (x is not y)\n",
    "print (x<>y)\n",
    "\n"
   ]
  },
  {
   "cell_type": "code",
   "execution_count": 9,
   "metadata": {},
   "outputs": [
    {
     "name": "stdout",
     "output_type": "stream",
     "text": [
      "True\n"
     ]
    }
   ],
   "source": [
    "#Program 7\n",
    "\n",
    "x=[\"wasim\", \"Lubaid\", \"shahroz\", \"usman\", \"faisal\", \"farhan\"]\n",
    "print (\"faisal\" in x)\n"
   ]
  },
  {
   "cell_type": "code",
   "execution_count": 10,
   "metadata": {},
   "outputs": [
    {
     "name": "stdout",
     "output_type": "stream",
     "text": [
      "True\n"
     ]
    }
   ],
   "source": [
    "#Program 8\n",
    "\n",
    "x=[\"wasim\", \"lubaid\", \"shahroz\", \"usman\", \"faisal\", \"farhan\"]\n",
    "print (\"parkash\" not in x)\n"
   ]
  },
  {
   "cell_type": "code",
   "execution_count": 11,
   "metadata": {},
   "outputs": [
    {
     "name": "stdout",
     "output_type": "stream",
     "text": [
      "Give me a velocity to fire at (in m/s):2\n",
      "Give me an angle to fire at:3\n",
      "Give me how far away you are from the structure;1\n",
      "Give me the height of the structure (in meters):4\n",
      "Time is 0.5006861729989605\n",
      "Velocity along x axis is 0.9986295347545738\n",
      "Velcity along y axis is -4.906724495389813\n",
      "Final Velocity is  5.007315270815544\n"
     ]
    }
   ],
   "source": [
    "#Program 9\n",
    "\n",
    "import math\n",
    "#User inputs\n",
    "velocity= float(input('Give me a velocity to fire at (in m/s):'))\n",
    "angle= float(input('Give me an angle to fire at:'))\n",
    "distance= float(input('Give me how far away you are from the structure;'))\n",
    "height= float(input('Give me the height of the structure (in meters):'))\n",
    "slingshot= 5 #Height os slingshot in meters\n",
    "gravity= 9.8 #Earth gravity\n",
    "\n",
    "#Converting angles to radians\n",
    "angleRad=math.radians(angle)\n",
    "#computing our x and y coordinate\n",
    "x= math.cos(angleRad)\n",
    "y= math.sin(angleRad)\n",
    "\n",
    "#Caclulations\n",
    "\n",
    "time= distance/(velocity*x)\n",
    "vx=x\n",
    "vy=y = (-9.8*time)\n",
    "finalVelocity=math.sqrt((vx**2)+(vy**2))\n",
    "print (\"Time is\", time)\n",
    "print (\"Velocity along x axis is\", vx)\n",
    "print (\"Velcity along y axis is\", vy)\n",
    "print (\"Final Velocity is \", finalVelocity)\n"
   ]
  },
  {
   "cell_type": "code",
   "execution_count": null,
   "metadata": {},
   "outputs": [],
   "source": []
  }
 ],
 "metadata": {
  "kernelspec": {
   "display_name": "Python 3",
   "language": "python",
   "name": "python3"
  },
  "language_info": {
   "codemirror_mode": {
    "name": "ipython",
    "version": 3
   },
   "file_extension": ".py",
   "mimetype": "text/x-python",
   "name": "python",
   "nbconvert_exporter": "python",
   "pygments_lexer": "ipython3",
   "version": "3.6.5"
  }
 },
 "nbformat": 4,
 "nbformat_minor": 2
}
